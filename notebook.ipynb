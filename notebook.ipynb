{
 "cells": [
  {
   "cell_type": "code",
   "execution_count": 1,
   "id": "e298a195",
   "metadata": {},
   "outputs": [],
   "source": [
    "from baselines.n2n.train import train_noise2noise\n",
    "#train_noise2noise()"
   ]
  },
  {
   "cell_type": "code",
   "execution_count": 3,
   "id": "51e49e26",
   "metadata": {},
   "outputs": [
    {
     "name": "stdout",
     "output_type": "stream",
     "text": [
      "Loading data from: C:\\Datasets\\ICIP training data\\ICIP training data\\0\\RawDataQA (4)\n",
      "Found 34 files\n"
     ]
    },
    {
     "name": "stderr",
     "output_type": "stream",
     "text": [
      "c:\\Users\\CL-11\\AppData\\Local\\Programs\\Python\\Python312\\Lib\\site-packages\\torch\\nn\\modules\\conv.py:456: UserWarning: Plan failed with a cudnnException: CUDNN_BACKEND_EXECUTION_PLAN_DESCRIPTOR: cudnnFinalize Descriptor Failed cudnn_status: CUDNN_STATUS_NOT_SUPPORTED (Triggered internally at ..\\aten\\src\\ATen\\native\\cudnn\\Conv_v8.cpp:919.)\n",
      "  return F.conv2d(input, weight, bias, self.stride,\n"
     ]
    },
    {
     "name": "stdout",
     "output_type": "stream",
     "text": [
      "\n",
      "===== Validation Results =====\n",
      "SNR: 23.75 dB → 16.18 dB\n",
      "ENL: 35.28 → 63.83\n",
      "Edge Preservation Index: 0.0889\n",
      "SSIM (self-reference): 0.3580\n",
      "=============================\n",
      "\n",
      "Validation results saved to c:\\Users\\CL-11\\OneDrive\\Repos\\OCTDenoisingFinal\\validation_results\\results_20250418-221209\n"
     ]
    }
   ],
   "source": [
    "from evaluation import validate_model\n",
    "from models.unet import load_unet\n",
    "model = load_unet(load=True)\n",
    "n2n_metrics = validate_model(model)"
   ]
  },
  {
   "cell_type": "code",
   "execution_count": null,
   "id": "ca19b0dc",
   "metadata": {},
   "outputs": [],
   "source": []
  }
 ],
 "metadata": {
  "kernelspec": {
   "display_name": "Python 3",
   "language": "python",
   "name": "python3"
  },
  "language_info": {
   "codemirror_mode": {
    "name": "ipython",
    "version": 3
   },
   "file_extension": ".py",
   "mimetype": "text/x-python",
   "name": "python",
   "nbconvert_exporter": "python",
   "pygments_lexer": "ipython3",
   "version": "3.12.2"
  }
 },
 "nbformat": 4,
 "nbformat_minor": 5
}
